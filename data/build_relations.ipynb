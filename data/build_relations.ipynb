{
 "cells": [
  {
   "cell_type": "code",
   "execution_count": 1,
   "metadata": {},
   "outputs": [],
   "source": [
    "import pandas as pd"
   ]
  },
  {
   "cell_type": "code",
   "execution_count": 5,
   "metadata": {},
   "outputs": [],
   "source": [
    "### EXTRACT THE PRODUCTION RELATION DATA\n",
    "df_prod = pd.read_excel('./sources/production_data.xlsx', sheet_name='Data')\n",
    "df_code = pd.read_excel('./sources/production_codes.xlsx', sheet_name='Data')\n",
    "\n",
    "# filter out the rows of data not applicable to project\n",
    "valid_codes = df_code['msnCode'].tolist()\n",
    "df_prod = df_prod.loc[df_prod['MSN'].isin(valid_codes)]\n",
    "\n",
    "# list of lists that will later become final dataframe\n",
    "data = []\n",
    "\n",
    "# convert each year column of energy produced into individual rows:\n",
    "for i in range(3, 62):\n",
    "    \n",
    "    # get values from row\n",
    "    for ind in df_prod.index:\n",
    "        \n",
    "        year = df_prod.columns[i]\n",
    "        energy = df_prod[year][ind]\n",
    "        energy = int(energy)\n",
    "        statecode = df_prod['StateCode'][ind]\n",
    "        msncode = df_prod['MSN'][ind]\n",
    "\n",
    "        # get source based on code\n",
    "        source = df_code.loc[df_code['msnCode'] == msncode, 'sourceCode'].item()\n",
    "        \n",
    "        # add values as a list to the data list\n",
    "        data.append([statecode, source, year, msncode, energy])\n",
    "        \n",
    "# create final production relation dataframe from lists and write to file\n",
    "column_names = ['stateCode', 'sourceCode', 'year', 'msnCode', 'energyProduced']\n",
    "final = pd.DataFrame(data, columns = column_names)\n",
    "final.to_csv('./relations/production.csv', index=False)\n",
    "\n",
    "# create production code relation from df_code dataframe and write to file\n",
    "df_code = df_code[['msnCode', 'description', 'units']]\n",
    "df_code.to_csv('./relations/production_codes.csv', index=False)"
   ]
  },
  {
   "cell_type": "code",
   "execution_count": 6,
   "metadata": {},
   "outputs": [],
   "source": [
    "### EXTRACT THE CONSUMPTION RELATION DATA\n",
    "\n",
    "df_cons = pd.read_excel('./sources/consumption_data.xlsx', sheet_name='Data')\n",
    "df_code = pd.read_excel('./sources/consumption_codes.xlsx', sheet_name='Data')\n",
    "df_subcode = pd.read_excel('./sources/consumption_codes.xlsx', sheet_name='temp')\n",
    "df_state = pd.read_excel('./sources/states.xlsx', sheet_name='Data')\n",
    "\n",
    "df_cons = df_cons.drop('Data_Status', axis=1)\n",
    "\n",
    "valid_codes = df_code['Code'].tolist()\n",
    "subcodes = df_subcode['subCode'].tolist()\n",
    "\n",
    "df_subsources = df_cons.loc[df_cons['MSN'].isin(subcodes)]\n",
    "df_cons = df_cons.loc[df_cons['MSN'].isin(valid_codes)]\n",
    "\n",
    "RERCB = ['GERCB', 'SORCB', 'WDRCB']\n",
    "RECCB = ['EMCCB', 'GECCB', 'HYCCB', 'SOCCB', 'WWCCB', 'WYCCB']\n",
    "REICB = ['BDLCB', 'EMICB', 'EMLCB', 'GEICB', 'HYICB', 'SOICB', 'WWICB', 'WYICB']\n",
    "REACB = ['BDACB', 'EMACB']\n",
    "REEIB = ['BDACB', 'EMACB', 'SOEGB', 'WWEIB', 'WYEGB']\n",
    "\n",
    "adddata = [RERCB, RECCB, REICB, REACB, REEIB]\n",
    "datalabels = ['RERCB', 'RECCB', 'REICB', 'REACB', 'REEIB']\n",
    "\n",
    "# create missing sector consumption rows for renewable energy\n",
    "# using subcode metrics\n",
    "\n",
    "state_codes = df_state['stateCode'].tolist()\n",
    "\n",
    "for state in state_codes:\n",
    "    \n",
    "    for i in range(len(adddata)):\n",
    "        new_row = df_subsources.loc[(df_subsources.State == state) & (df_subsources.MSN.isin(adddata[i]))].sum()\n",
    "        new_row[0] = state\n",
    "        new_row[1] = datalabels[i]\n",
    "        series = pd.Series(new_row, index = df_cons.columns)\n",
    "        df_cons = df_cons.append(series, ignore_index=True)\n",
    "\n",
    "        \n",
    "# will contain formatted data for output\n",
    "data = []\n",
    "\n",
    "# verify codes are filtered and formatted correctly\n",
    "df_cons = df_cons.loc[df_cons['MSN'].isin(valid_codes)]    \n",
    "\n",
    "# convert each year column of energy consumed into individual rows:\n",
    "for i in range(2, 61):\n",
    "    \n",
    "    # get values from row\n",
    "    for ind in df_cons.index:\n",
    "        \n",
    "        year = df_cons.columns[i]\n",
    "        energy = df_cons[year][ind]\n",
    "        energy = int(energy)\n",
    "        statecode = df_cons['State'][ind]\n",
    "        msncode = df_cons['MSN'][ind]\n",
    "\n",
    "        # get source and sector info based on msn code\n",
    "        source = df_code.loc[df_code['Code'] == msncode, 'SourceCode'].item()\n",
    "        sector = df_code.loc[df_code['Code'] == msncode, 'SectorCode'].item()\n",
    "        \n",
    "        data.append([statecode, source, sector, year, msncode, energy])\n",
    "        \n",
    "        \n",
    "# create final consumption relation dataframe from lists and write to file\n",
    "column_names = ['stateCode', 'sourceCode', 'sectorCode', 'year', 'msnCode', 'energyProduced']\n",
    "final = pd.DataFrame(data, columns = column_names)\n",
    "final.to_csv('./relations/consumption.csv', index=False)\n",
    "\n",
    "# create consumption code relation from df_code dataframe and write to file\n",
    "df_code = df_code[['Code', 'Description', 'Units']]\n",
    "df_code.to_csv('./relations/consumption_codes.csv', index=False)"
   ]
  },
  {
   "cell_type": "code",
   "execution_count": 69,
   "metadata": {},
   "outputs": [],
   "source": [
    "### CREATE THE STATE RELATION DATA\n",
    "df_state = pd.read_excel('./sources/states.xlsx', sheet_name='Data')\n",
    "df_state.to_csv('./relations/states.csv', index=False)\n"
   ]
  },
  {
   "cell_type": "code",
   "execution_count": 70,
   "metadata": {},
   "outputs": [],
   "source": [
    "### CREATE THE SOURCE RELATION DATA\n",
    "df_state = pd.read_excel('./sources/sources.xlsx', sheet_name='Data')\n",
    "df_state.to_csv('./relations/sources.csv', index=False)"
   ]
  },
  {
   "cell_type": "code",
   "execution_count": 71,
   "metadata": {},
   "outputs": [],
   "source": [
    "### CREATE THE SECTOR RELATION DATA\n",
    "df_state = pd.read_excel('./sources/sectors.xlsx', sheet_name='Data')\n",
    "df_state.to_csv('./relations/sectors.csv', index=False)\n"
   ]
  },
  {
   "cell_type": "code",
   "execution_count": 72,
   "metadata": {},
   "outputs": [],
   "source": [
    "### CREATE THE YEARS RELATION DATA\n",
    "df_state = pd.read_excel('./sources/years.xlsx', sheet_name='Data')\n",
    "df_state.to_csv('./relations/years.csv', index=False)\n",
    "\n",
    "\n"
   ]
  }
 ],
 "metadata": {
  "kernelspec": {
   "display_name": "Python 3",
   "language": "python",
   "name": "python3"
  },
  "language_info": {
   "codemirror_mode": {
    "name": "ipython",
    "version": 3
   },
   "file_extension": ".py",
   "mimetype": "text/x-python",
   "name": "python",
   "nbconvert_exporter": "python",
   "pygments_lexer": "ipython3",
   "version": "3.8.3"
  }
 },
 "nbformat": 4,
 "nbformat_minor": 4
}
